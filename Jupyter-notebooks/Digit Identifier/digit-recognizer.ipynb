{
 "cells": [
  {
   "cell_type": "code",
   "execution_count": 1,
   "source": [
    "import numpy as np # linear algebra\r\n",
    "import pandas as pd # data processing, CSV file I/O (e.g. pd.read_csv)\r\n",
    "import matplotlib.pyplot as plt  # To get insights about images (to view them)\r\n",
    "plt.gray() # As images are in grayscale"
   ],
   "outputs": [
    {
     "output_type": "display_data",
     "data": {
      "text/plain": [
       "<Figure size 432x288 with 0 Axes>"
      ]
     },
     "metadata": {}
    }
   ],
   "metadata": {
    "_cell_guid": "b1076dfc-b9ad-4769-8c92-a6c4dae69d19",
    "_uuid": "8f2839f25d086af736a60e9eeb907d3b93b6e0e5",
    "execution": {
     "iopub.execute_input": "2021-07-31T17:51:42.776551Z",
     "iopub.status.busy": "2021-07-31T17:51:42.776075Z",
     "iopub.status.idle": "2021-07-31T17:51:42.806799Z",
     "shell.execute_reply": "2021-07-31T17:51:42.805562Z",
     "shell.execute_reply.started": "2021-07-31T17:51:42.776457Z"
    }
   }
  },
  {
   "cell_type": "code",
   "execution_count": 2,
   "source": [
    "## Read training data \r\n",
    "train = pd.read_csv('train.csv')"
   ],
   "outputs": [],
   "metadata": {
    "execution": {
     "iopub.execute_input": "2021-07-31T17:51:42.809016Z",
     "iopub.status.busy": "2021-07-31T17:51:42.808667Z",
     "iopub.status.idle": "2021-07-31T17:51:47.057587Z",
     "shell.execute_reply": "2021-07-31T17:51:47.056540Z",
     "shell.execute_reply.started": "2021-07-31T17:51:42.808973Z"
    }
   }
  },
  {
   "cell_type": "code",
   "execution_count": 3,
   "source": [
    "# Look at its description\r\n",
    "train.head()"
   ],
   "outputs": [
    {
     "output_type": "execute_result",
     "data": {
      "text/plain": [
       "   label  pixel0  pixel1  pixel2  pixel3  pixel4  pixel5  pixel6  pixel7  \\\n",
       "0      1       0       0       0       0       0       0       0       0   \n",
       "1      0       0       0       0       0       0       0       0       0   \n",
       "2      1       0       0       0       0       0       0       0       0   \n",
       "3      4       0       0       0       0       0       0       0       0   \n",
       "4      0       0       0       0       0       0       0       0       0   \n",
       "\n",
       "   pixel8  ...  pixel774  pixel775  pixel776  pixel777  pixel778  pixel779  \\\n",
       "0       0  ...         0         0         0         0         0         0   \n",
       "1       0  ...         0         0         0         0         0         0   \n",
       "2       0  ...         0         0         0         0         0         0   \n",
       "3       0  ...         0         0         0         0         0         0   \n",
       "4       0  ...         0         0         0         0         0         0   \n",
       "\n",
       "   pixel780  pixel781  pixel782  pixel783  \n",
       "0         0         0         0         0  \n",
       "1         0         0         0         0  \n",
       "2         0         0         0         0  \n",
       "3         0         0         0         0  \n",
       "4         0         0         0         0  \n",
       "\n",
       "[5 rows x 785 columns]"
      ],
      "text/html": [
       "<div>\n",
       "<style scoped>\n",
       "    .dataframe tbody tr th:only-of-type {\n",
       "        vertical-align: middle;\n",
       "    }\n",
       "\n",
       "    .dataframe tbody tr th {\n",
       "        vertical-align: top;\n",
       "    }\n",
       "\n",
       "    .dataframe thead th {\n",
       "        text-align: right;\n",
       "    }\n",
       "</style>\n",
       "<table border=\"1\" class=\"dataframe\">\n",
       "  <thead>\n",
       "    <tr style=\"text-align: right;\">\n",
       "      <th></th>\n",
       "      <th>label</th>\n",
       "      <th>pixel0</th>\n",
       "      <th>pixel1</th>\n",
       "      <th>pixel2</th>\n",
       "      <th>pixel3</th>\n",
       "      <th>pixel4</th>\n",
       "      <th>pixel5</th>\n",
       "      <th>pixel6</th>\n",
       "      <th>pixel7</th>\n",
       "      <th>pixel8</th>\n",
       "      <th>...</th>\n",
       "      <th>pixel774</th>\n",
       "      <th>pixel775</th>\n",
       "      <th>pixel776</th>\n",
       "      <th>pixel777</th>\n",
       "      <th>pixel778</th>\n",
       "      <th>pixel779</th>\n",
       "      <th>pixel780</th>\n",
       "      <th>pixel781</th>\n",
       "      <th>pixel782</th>\n",
       "      <th>pixel783</th>\n",
       "    </tr>\n",
       "  </thead>\n",
       "  <tbody>\n",
       "    <tr>\n",
       "      <th>0</th>\n",
       "      <td>1</td>\n",
       "      <td>0</td>\n",
       "      <td>0</td>\n",
       "      <td>0</td>\n",
       "      <td>0</td>\n",
       "      <td>0</td>\n",
       "      <td>0</td>\n",
       "      <td>0</td>\n",
       "      <td>0</td>\n",
       "      <td>0</td>\n",
       "      <td>...</td>\n",
       "      <td>0</td>\n",
       "      <td>0</td>\n",
       "      <td>0</td>\n",
       "      <td>0</td>\n",
       "      <td>0</td>\n",
       "      <td>0</td>\n",
       "      <td>0</td>\n",
       "      <td>0</td>\n",
       "      <td>0</td>\n",
       "      <td>0</td>\n",
       "    </tr>\n",
       "    <tr>\n",
       "      <th>1</th>\n",
       "      <td>0</td>\n",
       "      <td>0</td>\n",
       "      <td>0</td>\n",
       "      <td>0</td>\n",
       "      <td>0</td>\n",
       "      <td>0</td>\n",
       "      <td>0</td>\n",
       "      <td>0</td>\n",
       "      <td>0</td>\n",
       "      <td>0</td>\n",
       "      <td>...</td>\n",
       "      <td>0</td>\n",
       "      <td>0</td>\n",
       "      <td>0</td>\n",
       "      <td>0</td>\n",
       "      <td>0</td>\n",
       "      <td>0</td>\n",
       "      <td>0</td>\n",
       "      <td>0</td>\n",
       "      <td>0</td>\n",
       "      <td>0</td>\n",
       "    </tr>\n",
       "    <tr>\n",
       "      <th>2</th>\n",
       "      <td>1</td>\n",
       "      <td>0</td>\n",
       "      <td>0</td>\n",
       "      <td>0</td>\n",
       "      <td>0</td>\n",
       "      <td>0</td>\n",
       "      <td>0</td>\n",
       "      <td>0</td>\n",
       "      <td>0</td>\n",
       "      <td>0</td>\n",
       "      <td>...</td>\n",
       "      <td>0</td>\n",
       "      <td>0</td>\n",
       "      <td>0</td>\n",
       "      <td>0</td>\n",
       "      <td>0</td>\n",
       "      <td>0</td>\n",
       "      <td>0</td>\n",
       "      <td>0</td>\n",
       "      <td>0</td>\n",
       "      <td>0</td>\n",
       "    </tr>\n",
       "    <tr>\n",
       "      <th>3</th>\n",
       "      <td>4</td>\n",
       "      <td>0</td>\n",
       "      <td>0</td>\n",
       "      <td>0</td>\n",
       "      <td>0</td>\n",
       "      <td>0</td>\n",
       "      <td>0</td>\n",
       "      <td>0</td>\n",
       "      <td>0</td>\n",
       "      <td>0</td>\n",
       "      <td>...</td>\n",
       "      <td>0</td>\n",
       "      <td>0</td>\n",
       "      <td>0</td>\n",
       "      <td>0</td>\n",
       "      <td>0</td>\n",
       "      <td>0</td>\n",
       "      <td>0</td>\n",
       "      <td>0</td>\n",
       "      <td>0</td>\n",
       "      <td>0</td>\n",
       "    </tr>\n",
       "    <tr>\n",
       "      <th>4</th>\n",
       "      <td>0</td>\n",
       "      <td>0</td>\n",
       "      <td>0</td>\n",
       "      <td>0</td>\n",
       "      <td>0</td>\n",
       "      <td>0</td>\n",
       "      <td>0</td>\n",
       "      <td>0</td>\n",
       "      <td>0</td>\n",
       "      <td>0</td>\n",
       "      <td>...</td>\n",
       "      <td>0</td>\n",
       "      <td>0</td>\n",
       "      <td>0</td>\n",
       "      <td>0</td>\n",
       "      <td>0</td>\n",
       "      <td>0</td>\n",
       "      <td>0</td>\n",
       "      <td>0</td>\n",
       "      <td>0</td>\n",
       "      <td>0</td>\n",
       "    </tr>\n",
       "  </tbody>\n",
       "</table>\n",
       "<p>5 rows × 785 columns</p>\n",
       "</div>"
      ]
     },
     "metadata": {},
     "execution_count": 3
    }
   ],
   "metadata": {
    "execution": {
     "iopub.execute_input": "2021-07-31T17:51:47.060077Z",
     "iopub.status.busy": "2021-07-31T17:51:47.059693Z",
     "iopub.status.idle": "2021-07-31T17:51:47.094317Z",
     "shell.execute_reply": "2021-07-31T17:51:47.093278Z",
     "shell.execute_reply.started": "2021-07-31T17:51:47.060042Z"
    }
   }
  },
  {
   "cell_type": "code",
   "execution_count": 4,
   "source": [
    "# View Images along with labels by whose index are in lookAt array \r\n",
    "lookAt = [0, 1, 2, 3, 4, 5, 6, 7, 8, 12, 26, 68]\r\n",
    "Image = np.array(train.iloc[lookAt, 1:])\r\n",
    "images = Image.reshape(len(lookAt), 28, 28)\r\n",
    "label = np.array(train.iloc[lookAt, 0])\r\n",
    "\r\n",
    "col = 5\r\n",
    "for index, image in enumerate(images):\r\n",
    "    if index%col == 0:\r\n",
    "        fig = plt.figure(figsize=(15,16))\r\n",
    "    fig.add_subplot(1,col,index%col+1)\r\n",
    "    plt.imshow(image)\r\n",
    "    plt.axis(\"off\")\r\n",
    "    plt.title(label[index])\r\n",
    "\r\n",
    "plt.show()"
   ],
   "outputs": [
    {
     "output_type": "display_data",
     "data": {
      "text/plain": [
       "<Figure size 1080x1152 with 5 Axes>"
      ],
      "image/png": "[encoded data removed]"
     },
     "metadata": {
      "needs_background": "light"
     }
    },
    {
     "output_type": "display_data",
     "data": {
      "text/plain": [
       "<Figure size 1080x1152 with 5 Axes>"
      ],
      "image/png": "[encoded data removed]"
     },
     "metadata": {
      "needs_background": "light"
     }
    },
    {
     "output_type": "display_data",
     "data": {
      "text/plain": [
       "<Figure size 1080x1152 with 2 Axes>"
      ],
      "image/png": "[encoded data removed]"
     },
     "metadata": {
      "needs_background": "light"
     }
    }
   ],
   "metadata": {
    "execution": {
     "iopub.execute_input": "2021-07-31T17:51:47.096429Z",
     "iopub.status.busy": "2021-07-31T17:51:47.095810Z",
     "iopub.status.idle": "2021-07-31T17:51:47.775647Z",
     "shell.execute_reply": "2021-07-31T17:51:47.774338Z",
     "shell.execute_reply.started": "2021-07-31T17:51:47.096373Z"
    }
   }
  },
  {
   "cell_type": "code",
   "execution_count": 5,
   "source": [
    "timg = plt.imread('gray.png')\r\n",
    "plt.imshow(timg)"
   ],
   "outputs": [
    {
     "output_type": "execute_result",
     "data": {
      "text/plain": [
       "<matplotlib.image.AxesImage at 0x1ddfaff0400>"
      ]
     },
     "metadata": {},
     "execution_count": 5
    },
    {
     "output_type": "display_data",
     "data": {
      "text/plain": [
       "<Figure size 432x288 with 1 Axes>"
      ],
      "image/png": "[encoded data removed]"
     },
     "metadata": {
      "needs_background": "light"
     }
    }
   ],
   "metadata": {}
  },
  {
   "cell_type": "code",
   "execution_count": 6,
   "source": [
    "# Create training data \r\n",
    "train_Y = train[\"label\"].values\r\n",
    "train_X = train.drop('label', axis=1)\r\n",
    "train_X = np.array(train_X, dtype=int)\r\n",
    "train_X = train_X.reshape(train_X.shape[0], 28, 28,1)"
   ],
   "outputs": [],
   "metadata": {
    "execution": {
     "iopub.execute_input": "2021-07-15T17:55:04.170964Z",
     "iopub.status.busy": "2021-07-15T17:55:04.170545Z",
     "iopub.status.idle": "2021-07-15T17:55:04.392436Z",
     "shell.execute_reply": "2021-07-15T17:55:04.39142Z",
     "shell.execute_reply.started": "2021-07-15T17:55:04.170922Z"
    }
   }
  },
  {
   "cell_type": "code",
   "execution_count": 7,
   "source": [
    "for index, image in enumerate(train_X[lookAt]):\r\n",
    "    if index%col == 0:\r\n",
    "        fig = plt.figure(figsize=(15,16))\r\n",
    "    fig.add_subplot(1,col,index%col+1)\r\n",
    "    plt.imshow(image)\r\n",
    "    plt.axis(\"off\")\r\n",
    "    plt.title(label[index])\r\n",
    "\r\n",
    "plt.show()"
   ],
   "outputs": [
    {
     "output_type": "display_data",
     "data": {
      "text/plain": [
       "<Figure size 1080x1152 with 5 Axes>"
      ],
      "image/png": "[encoded data removed]"
     },
     "metadata": {
      "needs_background": "light"
     }
    },
    {
     "output_type": "display_data",
     "data": {
      "text/plain": [
       "<Figure size 1080x1152 with 5 Axes>"
      ],
      "image/png": "[encoded data removed]"
     },
     "metadata": {
      "needs_background": "light"
     }
    },
    {
     "output_type": "display_data",
     "data": {
      "text/plain": [
       "<Figure size 1080x1152 with 2 Axes>"
      ],
      "image/png": "[encoded data removed]"
     },
     "metadata": {
      "needs_background": "light"
     }
    }
   ],
   "metadata": {
    "execution": {
     "iopub.execute_input": "2021-07-15T17:30:10.979134Z",
     "iopub.status.busy": "2021-07-15T17:30:10.978831Z",
     "iopub.status.idle": "2021-07-15T17:30:11.843803Z",
     "shell.execute_reply": "2021-07-15T17:30:11.842737Z",
     "shell.execute_reply.started": "2021-07-15T17:30:10.979107Z"
    }
   }
  },
  {
   "cell_type": "code",
   "execution_count": null,
   "source": [
    "def prep_pixels(train):\r\n",
    "    # convert from integers to floats\r\n",
    "    train_norm = train.astype('float32')\r\n",
    "    # normalize to range 0-1\r\n",
    "    train_norm = train_norm / 255.0\r\n",
    "    # return normalized images\r\n",
    "    return train_norm\r\n",
    "\r\n",
    "train_X = prep_pixels(train_X)"
   ],
   "outputs": [],
   "metadata": {}
  },
  {
   "cell_type": "code",
   "execution_count": 9,
   "source": [
    "# Load the libraries for implementing CNN model \r\n",
    "import tensorflow as tf \r\n",
    "from tensorflow.keras.layers import Conv2D,MaxPooling2D, Flatten, Dense"
   ],
   "outputs": [],
   "metadata": {
    "execution": {
     "iopub.execute_input": "2021-07-15T17:30:11.847316Z",
     "iopub.status.busy": "2021-07-15T17:30:11.846886Z",
     "iopub.status.idle": "2021-07-15T17:30:11.851901Z",
     "shell.execute_reply": "2021-07-15T17:30:11.850867Z",
     "shell.execute_reply.started": "2021-07-15T17:30:11.847274Z"
    }
   }
  },
  {
   "cell_type": "code",
   "execution_count": 10,
   "source": [
    "# Create model \r\n",
    "model = tf.keras.Sequential([\r\n",
    "    Conv2D(input_shape=(28,28,1), filters=8, strides=1, kernel_size=(5,5), activation = 'relu'),\r\n",
    "    MaxPooling2D(pool_size=(2,2), strides=2),\r\n",
    "    Conv2D(filters=16, strides=1, kernel_size=(5,5), activation = 'relu'),\r\n",
    "    MaxPooling2D(pool_size=(2,2), strides=2),\r\n",
    "    Flatten(),\r\n",
    "    Dense(120, activation='relu'),\r\n",
    "    Dense(84, activation='relu'),\r\n",
    "    Dense(10, activation='relu')\r\n",
    "])\r\n",
    "model.summary()"
   ],
   "outputs": [
    {
     "output_type": "stream",
     "name": "stdout",
     "text": [
      "Model: \"sequential\"\n",
      "_________________________________________________________________\n",
      "Layer (type)                 Output Shape              Param #   \n",
      "=================================================================\n",
      "conv2d (Conv2D)              (None, 24, 24, 8)         208       \n",
      "_________________________________________________________________\n",
      "max_pooling2d (MaxPooling2D) (None, 12, 12, 8)         0         \n",
      "_________________________________________________________________\n",
      "conv2d_1 (Conv2D)            (None, 8, 8, 16)          3216      \n",
      "_________________________________________________________________\n",
      "max_pooling2d_1 (MaxPooling2 (None, 4, 4, 16)          0         \n",
      "_________________________________________________________________\n",
      "flatten (Flatten)            (None, 256)               0         \n",
      "_________________________________________________________________\n",
      "dense (Dense)                (None, 120)               30840     \n",
      "_________________________________________________________________\n",
      "dense_1 (Dense)              (None, 84)                10164     \n",
      "_________________________________________________________________\n",
      "dense_2 (Dense)              (None, 10)                850       \n",
      "=================================================================\n",
      "Total params: 45,278\n",
      "Trainable params: 45,278\n",
      "Non-trainable params: 0\n",
      "_________________________________________________________________\n"
     ]
    }
   ],
   "metadata": {
    "execution": {
     "iopub.execute_input": "2021-07-15T17:30:11.854818Z",
     "iopub.status.busy": "2021-07-15T17:30:11.854429Z",
     "iopub.status.idle": "2021-07-15T17:30:11.92821Z",
     "shell.execute_reply": "2021-07-15T17:30:11.92718Z",
     "shell.execute_reply.started": "2021-07-15T17:30:11.854787Z"
    }
   }
  },
  {
   "cell_type": "code",
   "execution_count": 11,
   "source": [
    "model.compile(optimizer='adam', \r\n",
    "              loss=tf.keras.losses.SparseCategoricalCrossentropy(from_logits='true'),\r\n",
    "              metrics=tf.keras.metrics.SparseCategoricalAccuracy())"
   ],
   "outputs": [],
   "metadata": {
    "execution": {
     "iopub.execute_input": "2021-07-15T17:30:11.932618Z",
     "iopub.status.busy": "2021-07-15T17:30:11.932284Z",
     "iopub.status.idle": "2021-07-15T17:30:11.954999Z",
     "shell.execute_reply": "2021-07-15T17:30:11.953835Z",
     "shell.execute_reply.started": "2021-07-15T17:30:11.932588Z"
    }
   }
  },
  {
   "cell_type": "code",
   "execution_count": 12,
   "source": [
    "model.fit(train_X, train_Y, epochs=23)"
   ],
   "outputs": [
    {
     "output_type": "stream",
     "name": "stdout",
     "text": [
      "Epoch 1/23\n",
      "1313/1313 [==============================] - 8s 6ms/step - loss: 2.2177 - sparse_categorical_accuracy: 0.1792\n",
      "Epoch 2/23\n",
      "1313/1313 [==============================] - 8s 6ms/step - loss: 2.0890 - sparse_categorical_accuracy: 0.1980\n",
      "Epoch 3/23\n",
      "1313/1313 [==============================] - 9s 7ms/step - loss: 1.5964 - sparse_categorical_accuracy: 0.4247\n",
      "Epoch 4/23\n",
      "1313/1313 [==============================] - 10s 8ms/step - loss: 1.4124 - sparse_categorical_accuracy: 0.4976\n",
      "Epoch 5/23\n",
      "1313/1313 [==============================] - 10s 7ms/step - loss: 1.2346 - sparse_categorical_accuracy: 0.5730\n",
      "Epoch 6/23\n",
      "1313/1313 [==============================] - 10s 8ms/step - loss: 1.2204 - sparse_categorical_accuracy: 0.5766\n",
      "Epoch 7/23\n",
      "1313/1313 [==============================] - 10s 8ms/step - loss: 1.2172 - sparse_categorical_accuracy: 0.5772\n",
      "Epoch 8/23\n",
      "1313/1313 [==============================] - 11s 9ms/step - loss: 1.2107 - sparse_categorical_accuracy: 0.5784\n",
      "Epoch 9/23\n",
      "1313/1313 [==============================] - 11s 8ms/step - loss: 1.2071 - sparse_categorical_accuracy: 0.5797\n",
      "Epoch 10/23\n",
      "1313/1313 [==============================] - 10s 8ms/step - loss: 1.2056 - sparse_categorical_accuracy: 0.5801\n",
      "Epoch 11/23\n",
      "1313/1313 [==============================] - 10s 7ms/step - loss: 1.2047 - sparse_categorical_accuracy: 0.5796\n",
      "Epoch 12/23\n",
      "1313/1313 [==============================] - 10s 8ms/step - loss: 1.0458 - sparse_categorical_accuracy: 0.5794\n",
      "Epoch 13/23\n",
      "1313/1313 [==============================] - 10s 8ms/step - loss: 0.9680 - sparse_categorical_accuracy: 0.5884\n",
      "Epoch 14/23\n",
      "1313/1313 [==============================] - 11s 8ms/step - loss: 0.7541 - sparse_categorical_accuracy: 0.6819\n",
      "Epoch 15/23\n",
      "1313/1313 [==============================] - 10s 8ms/step - loss: 0.7454 - sparse_categorical_accuracy: 0.6838\n",
      "Epoch 16/23\n",
      "1313/1313 [==============================] - 10s 8ms/step - loss: 0.7464 - sparse_categorical_accuracy: 0.6844\n",
      "Epoch 17/23\n",
      "1313/1313 [==============================] - 11s 8ms/step - loss: 0.7430 - sparse_categorical_accuracy: 0.6847\n",
      "Epoch 18/23\n",
      "1313/1313 [==============================] - 11s 8ms/step - loss: 0.7385 - sparse_categorical_accuracy: 0.6848\n",
      "Epoch 19/23\n",
      "1313/1313 [==============================] - 11s 8ms/step - loss: 0.7385 - sparse_categorical_accuracy: 0.6853\n",
      "Epoch 20/23\n",
      "1313/1313 [==============================] - 11s 8ms/step - loss: 0.7314 - sparse_categorical_accuracy: 0.6865\n",
      "Epoch 21/23\n",
      "1313/1313 [==============================] - 11s 8ms/step - loss: 0.7414 - sparse_categorical_accuracy: 0.6853\n",
      "Epoch 22/23\n",
      "1313/1313 [==============================] - 11s 8ms/step - loss: 0.7369 - sparse_categorical_accuracy: 0.6855\n",
      "Epoch 23/23\n",
      "1313/1313 [==============================] - 11s 8ms/step - loss: 0.7324 - sparse_categorical_accuracy: 0.6867: 0s - loss: 0.7327 - sparse_categorical_a\n"
     ]
    },
    {
     "output_type": "execute_result",
     "data": {
      "text/plain": [
       "<tensorflow.python.keras.callbacks.History at 0x1de24b1d640>"
      ]
     },
     "metadata": {},
     "execution_count": 12
    }
   ],
   "metadata": {
    "execution": {
     "iopub.execute_input": "2021-07-15T17:30:11.957066Z",
     "iopub.status.busy": "2021-07-15T17:30:11.95664Z",
     "iopub.status.idle": "2021-07-15T17:34:32.771092Z",
     "shell.execute_reply": "2021-07-15T17:34:32.770165Z",
     "shell.execute_reply.started": "2021-07-15T17:30:11.957021Z"
    }
   }
  },
  {
   "cell_type": "code",
   "execution_count": 126,
   "source": [
    "import pickle\r\n",
    "model.save('./../../backend/script/digit.h5')"
   ],
   "outputs": [],
   "metadata": {}
  }
 ],
 "metadata": {
  "kernelspec": {
   "display_name": "Python 3",
   "language": "python",
   "name": "python3"
  },
  "language_info": {
   "codemirror_mode": {
    "name": "ipython",
    "version": 3
   },
   "file_extension": ".py",
   "mimetype": "text/x-python",
   "name": "python",
   "nbconvert_exporter": "python",
   "pygments_lexer": "ipython3",
   "version": "3.9.5"
  }
 },
 "nbformat": 4,
 "nbformat_minor": 4
}