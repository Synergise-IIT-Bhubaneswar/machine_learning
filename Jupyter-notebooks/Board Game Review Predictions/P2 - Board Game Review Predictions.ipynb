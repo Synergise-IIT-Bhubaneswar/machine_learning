{
 "cells": [
  {
   "cell_type": "code",
   "execution_count": 18,
   "metadata": {},
   "outputs": [
    {
     "name": "stdout",
     "output_type": "stream",
     "text": [
      "Python: 3.9.5 (tags/v3.9.5:0a7dcbd, May  3 2021, 17:27:52) [MSC v.1928 64 bit (AMD64)]\n"
     ]
    }
   ],
   "source": [
    "# Importing necessary modules \n",
    "import matplotlib.pyplot as plt\n",
    "import seaborn as sns\n",
    "from sklearn.model_selection import train_test_split\n",
    "import pandas as pd \n",
    "import numpy as np \n",
    "import sys\n",
    "print(\"Python: {}\".format(sys.version))"
   ]
  },
  {
   "cell_type": "code",
   "execution_count": 2,
   "metadata": {},
   "outputs": [
    {
     "data": {
      "text/plain": [
       "<bound method NDFrame.head of            id                type  \\\n",
       "0       12333           boardgame   \n",
       "1      120677           boardgame   \n",
       "2      102794           boardgame   \n",
       "3       25613           boardgame   \n",
       "4        3076           boardgame   \n",
       "...       ...                 ...   \n",
       "81307  184441  boardgameexpansion   \n",
       "81308  184442           boardgame   \n",
       "81309  184443           boardgame   \n",
       "81310  184449           boardgame   \n",
       "81311  184451           boardgame   \n",
       "\n",
       "                                                    name  yearpublished  \\\n",
       "0                                      Twilight Struggle         2005.0   \n",
       "1                                          Terra Mystica         2012.0   \n",
       "2                              Caverna: The Cave Farmers         2013.0   \n",
       "3              Through the Ages: A Story of Civilization         2006.0   \n",
       "4                                            Puerto Rico         2002.0   \n",
       "...                                                  ...            ...   \n",
       "81307                               Micro Rome: Aegyptus         2015.0   \n",
       "81308  Trivial Pursuit: Marvel Cinematic Universe  Da...         2013.0   \n",
       "81309                                          BEARanoia         2015.0   \n",
       "81310                                            Freight         2015.0   \n",
       "81311                                  Bingo Animal Kids         2010.0   \n",
       "\n",
       "       minplayers  maxplayers  playingtime  minplaytime  maxplaytime  minage  \\\n",
       "0             2.0         2.0        180.0        180.0        180.0    13.0   \n",
       "1             2.0         5.0        150.0         60.0        150.0    12.0   \n",
       "2             1.0         7.0        210.0         30.0        210.0    12.0   \n",
       "3             2.0         4.0        240.0        240.0        240.0    12.0   \n",
       "4             2.0         5.0        150.0         90.0        150.0    12.0   \n",
       "...           ...         ...          ...          ...          ...     ...   \n",
       "81307         1.0         1.0          0.0         30.0          0.0    10.0   \n",
       "81308         2.0         0.0          0.0          0.0          0.0    12.0   \n",
       "81309         2.0        15.0          1.0          1.0          1.0     0.0   \n",
       "81310         2.0         4.0         60.0         30.0         60.0     8.0   \n",
       "81311         1.0         6.0         10.0         10.0         10.0     2.0   \n",
       "\n",
       "       users_rated  average_rating  bayes_average_rating  total_owners  \\\n",
       "0            20113         8.33774               8.22186         26647   \n",
       "1            14383         8.28798               8.14232         16519   \n",
       "2             9262         8.28994               8.06886         12230   \n",
       "3            13294         8.20407               8.05804         14343   \n",
       "4            39883         8.14261               8.04524         44362   \n",
       "...            ...             ...                   ...           ...   \n",
       "81307            0         0.00000               0.00000             0   \n",
       "81308            0         0.00000               0.00000             0   \n",
       "81309            0         0.00000               0.00000             0   \n",
       "81310            0         0.00000               0.00000             0   \n",
       "81311            0         0.00000               0.00000             0   \n",
       "\n",
       "       total_traders  total_wanters  total_wishers  total_comments  \\\n",
       "0                372           1219           5865            5347   \n",
       "1                132           1586           6277            2526   \n",
       "2                 99           1476           5600            1700   \n",
       "3                362           1084           5075            3378   \n",
       "4                795            861           5414            9173   \n",
       "...              ...            ...            ...             ...   \n",
       "81307              0              0              0               0   \n",
       "81308              0              0              0               0   \n",
       "81309              0              0              0               0   \n",
       "81310              0              0              0               0   \n",
       "81311              0              0              0               0   \n",
       "\n",
       "       total_weights  average_weight  \n",
       "0               2562          3.4785  \n",
       "1               1423          3.8939  \n",
       "2                777          3.7761  \n",
       "3               1642          4.1590  \n",
       "4               5213          3.2943  \n",
       "...              ...             ...  \n",
       "81307              0          0.0000  \n",
       "81308              0          0.0000  \n",
       "81309              0          0.0000  \n",
       "81310              0          0.0000  \n",
       "81311              0          0.0000  \n",
       "\n",
       "[81312 rows x 20 columns]>"
      ]
     },
     "execution_count": 2,
     "metadata": {},
     "output_type": "execute_result"
    }
   ],
   "source": [
    "# Import games data \n",
    "df = pd.read_csv(\"games.csv\")\n",
    "df.head "
   ]
  },
  {
   "cell_type": "code",
   "execution_count": 3,
   "metadata": {},
   "outputs": [
    {
     "data": {
      "image/png": "[encoded data removed]",
      "text/plain": [
       "<Figure size 432x288 with 1 Axes>"
      ]
     },
     "metadata": {
      "needs_background": "light"
     },
     "output_type": "display_data"
    }
   ],
   "source": [
    "# See distrbution of average_rating \n",
    "plt.hist(df[\"average_rating\"])\n",
    "plt.show()\n",
    "# We see that many games are having 0 ratings "
   ]
  },
  {
   "cell_type": "code",
   "execution_count": 4,
   "metadata": {},
   "outputs": [
    {
     "name": "stdout",
     "output_type": "stream",
     "text": [
      "id                             318\n",
      "type                     boardgame\n",
      "name                    Looney Leo\n",
      "yearpublished                  0.0\n",
      "minplayers                     0.0\n",
      "maxplayers                     0.0\n",
      "playingtime                    0.0\n",
      "minplaytime                    0.0\n",
      "maxplaytime                    0.0\n",
      "minage                         0.0\n",
      "users_rated                      0\n",
      "average_rating                 0.0\n",
      "bayes_average_rating           0.0\n",
      "total_owners                     0\n",
      "total_traders                    0\n",
      "total_wanters                    0\n",
      "total_wishers                    1\n",
      "total_comments                   0\n",
      "total_weights                    0\n",
      "average_weight                 0.0\n",
      "Name: 13048, dtype: object\n",
      "id                                  12333\n",
      "type                            boardgame\n",
      "name                    Twilight Struggle\n",
      "yearpublished                      2005.0\n",
      "minplayers                            2.0\n",
      "maxplayers                            2.0\n",
      "playingtime                         180.0\n",
      "minplaytime                         180.0\n",
      "maxplaytime                         180.0\n",
      "minage                               13.0\n",
      "users_rated                         20113\n",
      "average_rating                    8.33774\n",
      "bayes_average_rating              8.22186\n",
      "total_owners                        26647\n",
      "total_traders                         372\n",
      "total_wanters                        1219\n",
      "total_wishers                        5865\n",
      "total_comments                       5347\n",
      "total_weights                        2562\n",
      "average_weight                     3.4785\n",
      "Name: 0, dtype: object\n"
     ]
    }
   ],
   "source": [
    "# Check first game which has 0 average rating \n",
    "\n",
    "print(df.loc[df[\"average_rating\"] == 0].iloc[0])\n",
    "\n",
    "# Check first game which has positive rating \n",
    "\n",
    "print(df.loc[df[\"average_rating\"] > 0].iloc[0])\n",
    "\n",
    "# We noticed that games with less informations have 0 average_rating "
   ]
  },
  {
   "cell_type": "code",
   "execution_count": 5,
   "metadata": {},
   "outputs": [
    {
     "name": "stdout",
     "output_type": "stream",
     "text": [
      "35085\n",
      "1\n"
     ]
    }
   ],
   "source": [
    "# Check Which rows have missing datas\n",
    "cnt = 0\n",
    "for i in range(len(df)):\n",
    "    for j in df.iloc[i]:\n",
    "        if j=='?' or j==None:\n",
    "            print(i)\n",
    "            cnt+=1\n",
    "print(cnt)\n"
   ]
  },
  {
   "cell_type": "code",
   "execution_count": 6,
   "metadata": {},
   "outputs": [
    {
     "name": "stderr",
     "output_type": "stream",
     "text": [
      "<ipython-input-6-6d24e5796cae>:5: SettingWithCopyWarning: \n",
      "A value is trying to be set on a copy of a slice from a DataFrame\n",
      "\n",
      "See the caveats in the documentation: https://pandas.pydata.org/pandas-docs/stable/user_guide/indexing.html#returning-a-view-versus-a-copy\n",
      "  df.dropna(0, inplace = True)\n"
     ]
    },
    {
     "data": {
      "image/png": "[encoded data removed]",
      "text/plain": [
       "<Figure size 432x288 with 1 Axes>"
      ]
     },
     "metadata": {
      "needs_background": "light"
     },
     "output_type": "display_data"
    }
   ],
   "source": [
    "# Filter games which have no rating (Decided by average_rating distribution)\n",
    "df = df[df[\"average_rating\"] > 0]\n",
    "\n",
    "# Remove rows with missing values ( As only 1 row has missing data)\n",
    "df.dropna(0, inplace = True)\n",
    "\n",
    "plt.hist(df[\"average_rating\"])\n",
    "plt.show()"
   ]
  },
  {
   "cell_type": "code",
   "execution_count": 7,
   "metadata": {},
   "outputs": [
    {
     "name": "stdout",
     "output_type": "stream",
     "text": [
      "Index(['id', 'type', 'name', 'yearpublished', 'minplayers', 'maxplayers',\n",
      "       'playingtime', 'minplaytime', 'maxplaytime', 'minage', 'users_rated',\n",
      "       'average_rating', 'bayes_average_rating', 'total_owners',\n",
      "       'total_traders', 'total_wanters', 'total_wishers', 'total_comments',\n",
      "       'total_weights', 'average_weight'],\n",
      "      dtype='object')\n"
     ]
    }
   ],
   "source": [
    "# Looking at columns \n",
    "print(df.columns)"
   ]
  },
  {
   "cell_type": "code",
   "execution_count": 8,
   "metadata": {},
   "outputs": [
    {
     "data": {
      "image/png": "[encoded data removed]",
      "text/plain": [
       "<Figure size 648x864 with 2 Axes>"
      ]
     },
     "metadata": {
      "needs_background": "light"
     },
     "output_type": "display_data"
    }
   ],
   "source": [
    "# Correlation matrix to see which features are directly correlated, so we may remove them, or draw some other conclusions \n",
    "corrmat = df.corr()\n",
    "fig = plt.figure(figsize = (9,12))\n",
    "sns.heatmap(corrmat, square = True)\n",
    "plt.show()"
   ]
  },
  {
   "cell_type": "code",
   "execution_count": 9,
   "metadata": {},
   "outputs": [],
   "source": [
    "columns = df.columns.tolist()\n",
    "\n",
    "# Filter the data we don't want\n",
    "# As minplaytime, maxplaytime are highly correlated with playingtime, we can remove them\n",
    "columns = [c for c in columns if c not in [\"bayes_average_rating\", \"average_rating\", \"type\", \"name\", \"id\", \"minplaytime\", \"maxplaytime\"]]\n",
    "\n",
    "# Store the class we'll be predicting on\n",
    "target = \"average_rating\""
   ]
  },
  {
   "cell_type": "code",
   "execution_count": 10,
   "metadata": {},
   "outputs": [],
   "source": [
    "# Generate training and testing data \n",
    "X = df[columns]\n",
    "Y = df[target]\n",
    "\n",
    "from sklearn.model_selection import train_test_split\n",
    "\n",
    "X_train, X_test, y_train , y_test = train_test_split(X, Y) "
   ]
  },
  {
   "cell_type": "code",
   "execution_count": 11,
   "metadata": {},
   "outputs": [
    {
     "data": {
      "text/plain": [
       "LinearRegression()"
      ]
     },
     "execution_count": 11,
     "metadata": {},
     "output_type": "execute_result"
    }
   ],
   "source": [
    "# Train on Linear regression model \n",
    "from sklearn.linear_model import LinearRegression\n",
    "from sklearn.metrics import mean_squared_error\n",
    "\n",
    "LR = LinearRegression()\n",
    "LR.fit(X_train, y_train)"
   ]
  },
  {
   "cell_type": "code",
   "execution_count": 12,
   "metadata": {},
   "outputs": [
    {
     "name": "stdout",
     "output_type": "stream",
     "text": [
      "2.0853064346710513\n"
     ]
    }
   ],
   "source": [
    "# Predict on Linear regression\n",
    "predictions = LR.predict(X_test)\n",
    "\n",
    "print(mean_squared_error(predictions, y_test))"
   ]
  },
  {
   "cell_type": "code",
   "execution_count": 29,
   "metadata": {},
   "outputs": [
    {
     "name": "stdout",
     "output_type": "stream",
     "text": [
      "0.41249954240113773 0.014266544699303092 2\n",
      "0.4143981834927497 0.013744797072991697 3\n",
      "0.4165464243554429 0.01404480639201811 4\n",
      "0.4171526406416905 0.01321409336065364 5\n",
      "0.41719916968917814 0.013619157051659536 6\n",
      "0.4161916545688846 0.01404625717557357 7\n",
      "0.41601516042939757 0.014450925666500096 8\n",
      "0.4156933668332068 0.013949530088840987 9\n",
      "0.4153552659436837 0.014351420406790901 10\n",
      "0.4142804956474662 0.014599012883271244 11\n",
      "0.41415374134466937 0.013801669403203397 12\n",
      "0.4131652962435395 0.014205324582847331 13\n",
      "0.4119868327026402 0.01434873138958824 14\n"
     ]
    }
   ],
   "source": [
    "# Train on Random Forest regression model \n",
    "from sklearn.ensemble import RandomForestRegressor\n",
    "from sklearn.model_selection import KFold, cross_val_score\n",
    "\n",
    "kfold = KFold(n_splits=6)\n",
    "for leaf in range(2,15):\n",
    "    RFR = RandomForestRegressor(n_estimators = 90, min_samples_leaf=leaf)\n",
    "    cv_result = cross_val_score(RFR, X_train, y_train, cv=kfold)\n",
    "    print(cv_result.mean(), cv_result.std() ,leaf)\n"
   ]
  },
  {
   "cell_type": "code",
   "execution_count": 14,
   "metadata": {},
   "outputs": [
    {
     "data": {
      "text/plain": [
       "RandomForestRegressor(min_samples_leaf=12)"
      ]
     },
     "execution_count": 14,
     "metadata": {},
     "output_type": "execute_result"
    }
   ],
   "source": [
    "# We observe that min_sample_leaf = 12, gave best result, (low bias, low variance) hence training our model with best hyper_parameters \n",
    "RFR = RandomForestRegressor(n_estimators = 100, min_samples_leaf=12)\n",
    "RFR.fit(X_train, y_train)"
   ]
  },
  {
   "cell_type": "code",
   "execution_count": 15,
   "metadata": {},
   "outputs": [
    {
     "name": "stdout",
     "output_type": "stream",
     "text": [
      "1.4564448922504616\n"
     ]
    }
   ],
   "source": [
    "# Predict on Random Forest regressor\n",
    "predictions = RFR.predict(X_test)\n",
    "\n",
    "print(mean_squared_error(predictions, y_test))"
   ]
  },
  {
   "cell_type": "code",
   "execution_count": 16,
   "metadata": {},
   "outputs": [],
   "source": [
    "# As Random Forest Regressor model has better performance over Linear regression model therefore we will use RFR model\n",
    "# for predictions in our website. \n",
    "# Storing model in the file \n",
    "import pickle\n",
    "\n",
    "pickle.dump(RFR, open('./../../backend/script/RFR.pkl','wb'))\n"
   ]
  },
  {
   "cell_type": "code",
   "execution_count": 19,
   "metadata": {},
   "outputs": [
    {
     "name": "stdout",
     "output_type": "stream",
     "text": [
      "Predicted Value: 6.867816196216382\n",
      "Actual Value: 6.8955\n"
     ]
    }
   ],
   "source": [
    "# Verifying if model can be extracted properly \n",
    "loaded_model = pickle.load(open('./../../backend/script/RFR.pkl','rb'))\n",
    "ex = np.array([ X_test.iloc[0][i] for i in range(len(X_test.iloc[0])) ])\n",
    "ex.resize(1,13)\n",
    "print(\"Predicted Value: {}\".format(np.squeeze(loaded_model.predict(ex))))\n",
    "print(\"Actual Value: {}\".format(y_test.iloc[0]))\n"
   ]
  }
 ],
 "metadata": {
  "kernelspec": {
   "display_name": "Python 3",
   "language": "python",
   "name": "python3"
  },
  "language_info": {
   "codemirror_mode": {
    "name": "ipython",
    "version": 3
   },
   "file_extension": ".py",
   "mimetype": "text/x-python",
   "name": "python",
   "nbconvert_exporter": "python",
   "pygments_lexer": "ipython3",
   "version": "3.9.5"
  }
 },
 "nbformat": 4,
 "nbformat_minor": 4
}
